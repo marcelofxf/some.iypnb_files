{
 "cells": [
  {
   "cell_type": "markdown",
   "id": "8a6e24ab",
   "metadata": {},
   "source": [
    "### Set of characters"
   ]
  },
  {
   "cell_type": "code",
   "execution_count": 210,
   "id": "40bd3ef4",
   "metadata": {},
   "outputs": [
    {
     "name": "stdout",
     "output_type": "stream",
     "text": [
      "Ok!\n",
      "Ok!\n",
      "Not Ok!\n"
     ]
    }
   ],
   "source": [
    "def regex(test_str):\n",
    "    regex = r'^[a-zA-Z0-9]+$'\n",
    "    if re.match(regex, test_str):\n",
    "        print(\"Ok!\")\n",
    "    else:\n",
    "        print(\"Not Ok!\")\n",
    "\n",
    "regex(\"00al\")\n",
    "regex(\"adk0jbf\")\n",
    "regex(\"adk0jbf_\")"
   ]
  },
  {
   "cell_type": "markdown",
   "id": "13ec924d",
   "metadata": {},
   "source": [
    "### An <u>a</u> fallowed by zero or more <u>b's</u> "
   ]
  },
  {
   "cell_type": "code",
   "execution_count": 211,
   "id": "a7872a47",
   "metadata": {},
   "outputs": [
    {
     "name": "stdout",
     "output_type": "stream",
     "text": [
      "Ok!\n",
      "Ok!\n",
      "Ok!\n",
      "Not Ok!\n",
      "Not Ok!\n"
     ]
    }
   ],
   "source": [
    "def regex(test_str):\n",
    "    regex = r\"^a{1}b*$\"\n",
    "    if re.match(regex, test_str):\n",
    "        print(\"Ok!\")\n",
    "    else:\n",
    "        print(\"Not Ok!\")\n",
    "\n",
    "regex(\"a\")        \n",
    "regex(\"ab\")\n",
    "regex(\"abbbb\")\n",
    "regex(\"aabbbb\")\n",
    "regex(\"bbbb\")"
   ]
  },
  {
   "cell_type": "markdown",
   "id": "4b4a43d8",
   "metadata": {},
   "source": [
    "### An <u>a</u> fallowed by one or more <u>b's</u> "
   ]
  },
  {
   "cell_type": "code",
   "execution_count": 212,
   "id": "5a23cfc7",
   "metadata": {},
   "outputs": [
    {
     "name": "stdout",
     "output_type": "stream",
     "text": [
      "Not Ok!\n",
      "Ok!\n",
      "Ok!\n"
     ]
    }
   ],
   "source": [
    "def regex(test_str):\n",
    "    regex = r\"^a{1}b+$\"\n",
    "    if re.match(regex, test_str):\n",
    "        print(\"Ok!\")\n",
    "    else:\n",
    "        print(\"Not Ok!\")\n",
    "\n",
    "regex(\"a\")\n",
    "regex(\"ab\")\n",
    "regex(\"abb\")"
   ]
  },
  {
   "cell_type": "markdown",
   "id": "2f642fc9",
   "metadata": {},
   "source": [
    "### An <u>a</u> fallowed by zero or one <u>b</u> "
   ]
  },
  {
   "cell_type": "code",
   "execution_count": 213,
   "id": "3f948869",
   "metadata": {},
   "outputs": [
    {
     "name": "stdout",
     "output_type": "stream",
     "text": [
      "Ok!\n",
      "Ok!\n",
      "Not Ok!\n"
     ]
    }
   ],
   "source": [
    "def regex(test_str):\n",
    "    regex = r\"a{1}b?$\"\n",
    "    if re.match(regex, test_str):\n",
    "        print(\"Ok!\")\n",
    "    else:\n",
    "        print(\"Not Ok!\")\n",
    "\n",
    "regex(\"a\")\n",
    "regex(\"ab\")\n",
    "regex(\"abb\")\n",
    "    "
   ]
  },
  {
   "cell_type": "markdown",
   "id": "b55c1f97",
   "metadata": {},
   "source": [
    "### An <u>a</u> fallowed by zero to three <u>b's</u> "
   ]
  },
  {
   "cell_type": "code",
   "execution_count": 214,
   "id": "87072c8b",
   "metadata": {},
   "outputs": [
    {
     "name": "stdout",
     "output_type": "stream",
     "text": [
      "Ok!\n",
      "Ok!\n",
      "Not Ok!\n"
     ]
    }
   ],
   "source": [
    "def regex(test_str):\n",
    "    regex = \"a{1}b{,3}$\"\n",
    "    if re.match(regex, test_str):\n",
    "        print(\"Ok!\")\n",
    "    else:\n",
    "        print(\"Not Ok!\")\n",
    "\n",
    "regex(\"a\")\n",
    "regex(\"ab\")\n",
    "regex(\"abbbb\")\n",
    "    "
   ]
  },
  {
   "cell_type": "markdown",
   "id": "cead84c8",
   "metadata": {},
   "source": [
    "### Sequences of lowercase letters joined with a underscore at the end"
   ]
  },
  {
   "cell_type": "code",
   "execution_count": 215,
   "id": "c760cbdc",
   "metadata": {},
   "outputs": [
    {
     "name": "stdout",
     "output_type": "stream",
     "text": [
      "Ok!\n",
      "Not OK!\n"
     ]
    }
   ],
   "source": [
    "def regex(test_str):\n",
    "    regex = r\"^[a-z]*_{1}$\"\n",
    "    if re.match(regex, test_str):\n",
    "        print(\"Ok!\")\n",
    "    else:\n",
    "        print(\"Not OK!\")\n",
    "\n",
    "regex(r\"a_\")\n",
    "regex(\"adsfasdf__\")\n"
   ]
  },
  {
   "cell_type": "markdown",
   "id": "ad5d2da4",
   "metadata": {},
   "source": [
    "### Find the sequences of <u>one</u> upper case letter followed by lower case letters"
   ]
  },
  {
   "cell_type": "code",
   "execution_count": 216,
   "id": "fb731d11",
   "metadata": {},
   "outputs": [
    {
     "name": "stdout",
     "output_type": "stream",
     "text": [
      "Ok!\n",
      "Not Ok!\n",
      "Ok!\n"
     ]
    }
   ],
   "source": [
    "def regex(test_str):\n",
    "    regex = r\"[A-Z]{1}[a-z]+$\"\n",
    "    if re.match(regex, test_str):\n",
    "        print(\"Ok!\")\n",
    "    else:\n",
    "        print(\"Not Ok!\")\n",
    "\n",
    "regex(\"Ma\")\n",
    "regex(\"M\")\n",
    "regex(\"Hasdfzds\")\n"
   ]
  },
  {
   "cell_type": "markdown",
   "id": "7be46061",
   "metadata": {},
   "source": [
    "### Matches a string that has an <u>a</u> followed by anything, ending in <u>b</u>"
   ]
  },
  {
   "cell_type": "code",
   "execution_count": 217,
   "id": "974ac1d2",
   "metadata": {},
   "outputs": [
    {
     "name": "stdout",
     "output_type": "stream",
     "text": [
      "Ok!\n",
      "Ok!\n",
      "Not Ok!\n",
      "Ok!\n",
      "Ok!\n"
     ]
    }
   ],
   "source": [
    "def regex(test_str):\n",
    "    regex = r\"[^a]*a{1}.*?b$\"\n",
    "    if re.match(regex, test_str):\n",
    "        print(\"Ok!\")\n",
    "    else:\n",
    "        print(\"Not Ok!\")\n",
    "\n",
    "regex(\"ab\")\n",
    "regex(\"_ab\")\n",
    "regex(\"dfgt\")\n",
    "regex(\"mab\")\n",
    "regex(\"afsdafasfsdfb\")\n"
   ]
  },
  {
   "cell_type": "markdown",
   "id": "74297006",
   "metadata": {},
   "source": [
    "### Matches a word at the beginning of a string"
   ]
  },
  {
   "cell_type": "code",
   "execution_count": 218,
   "id": "1e8dbfb2",
   "metadata": {},
   "outputs": [
    {
     "name": "stdout",
     "output_type": "stream",
     "text": [
      "Not OK!\n",
      "Ok!\n",
      "Ok!\n"
     ]
    }
   ],
   "source": [
    "def regex(test_str):\n",
    "    regex = r\"^\\w\"\n",
    "    if re.match(regex, test_str):\n",
    "        print(\"Ok!\")\n",
    "    else:\n",
    "        print(\"Not OK!\")\n",
    "\n",
    "regex(\" Testando\")\n",
    "regex(\"Testando\")\n",
    "regex(\"foo bar\")"
   ]
  },
  {
   "cell_type": "markdown",
   "id": "8acc17cf",
   "metadata": {},
   "source": [
    "### Matches a word at the end of string, with optional punctuation"
   ]
  },
  {
   "cell_type": "code",
   "execution_count": 219,
   "id": "9dd18917",
   "metadata": {},
   "outputs": [
    {
     "name": "stdout",
     "output_type": "stream",
     "text": [
      "Ok!\n",
      "Not Ok!\n",
      "Ok!\n"
     ]
    }
   ],
   "source": [
    "def regex(test_str):\n",
    "    regex = r\"^\\w[!?.]*\"\n",
    "    if re.match(regex, test_str):\n",
    "        print(\"Ok!\")\n",
    "    else:\n",
    "        print(\"Not Ok!\")\n",
    "\n",
    "regex(\"fala!\")\n",
    "regex(\" fala?!\")\n",
    "regex(\"foo bar!\")"
   ]
  },
  {
   "cell_type": "markdown",
   "id": "7b8ef950",
   "metadata": {},
   "source": [
    "### Matches a word containing <u>z</u>"
   ]
  },
  {
   "cell_type": "code",
   "execution_count": 220,
   "id": "57b7df1c",
   "metadata": {},
   "outputs": [
    {
     "name": "stdout",
     "output_type": "stream",
     "text": [
      "Ok!\n",
      "Not OK!\n"
     ]
    }
   ],
   "source": [
    "def regex(test_str):\n",
    "    regex = \"\\w*z.\\W*\"\n",
    "    if re.match(regex, test_str):\n",
    "        print(\"Ok!\")\n",
    "    else:\n",
    "        print(\"Not OK!\")\n",
    "\n",
    "regex(\"zack\")\n",
    "regex(\"the zack\")"
   ]
  }
 ],
 "metadata": {
  "kernelspec": {
   "display_name": "Python 3",
   "language": "python",
   "name": "python3"
  },
  "language_info": {
   "codemirror_mode": {
    "name": "ipython",
    "version": 3
   },
   "file_extension": ".py",
   "mimetype": "text/x-python",
   "name": "python",
   "nbconvert_exporter": "python",
   "pygments_lexer": "ipython3",
   "version": "3.8.10"
  }
 },
 "nbformat": 4,
 "nbformat_minor": 5
}
