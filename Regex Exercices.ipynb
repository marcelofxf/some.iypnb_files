{
 "cells": [
  {
   "cell_type": "markdown",
   "id": "56e0cf35",
   "metadata": {},
   "source": [
    "### Set of characters"
   ]
  },
  {
   "cell_type": "code",
   "execution_count": null,
   "id": "3984bf48",
   "metadata": {},
   "outputs": [],
   "source": [
    "def regex(test_str):\n",
    "    regex = r'^[a-zA-Z0-9]+$'\n",
    "    if re.match(regex, test_str):\n",
    "        print(\"Ok!\")\n",
    "    else:\n",
    "        print(\"Not Ok!\")\n",
    "\n",
    "regex(\"00al\")\n",
    "regex(\"adk0jbf\")\n",
    "regex(\"adk0jbf_\")"
   ]
  },
  {
   "cell_type": "markdown",
   "id": "10d4a574",
   "metadata": {},
   "source": [
    "### An <u>a</u> fallowed by zero or more <u>b's</u> "
   ]
  },
  {
   "cell_type": "code",
   "execution_count": null,
   "id": "41d8e719",
   "metadata": {},
   "outputs": [],
   "source": [
    "def regex(test_str):\n",
    "    regex = r\"^a{1}b*$\"\n",
    "    if re.match(regex, test_str):\n",
    "        print(\"Ok!\")\n",
    "    else:\n",
    "        print(\"Not Ok!\")\n",
    "\n",
    "regex(\"a\")        \n",
    "regex(\"ab\")\n",
    "regex(\"abbbb\")\n",
    "regex(\"aabbbb\")\n",
    "regex(\"bbbb\")"
   ]
  },
  {
   "cell_type": "markdown",
   "id": "fbdfb75a",
   "metadata": {},
   "source": [
    "### An <u>a</u> fallowed by one or more <u>b's</u> "
   ]
  },
  {
   "cell_type": "code",
   "execution_count": 84,
   "id": "0b695ab5",
   "metadata": {},
   "outputs": [
    {
     "name": "stdout",
     "output_type": "stream",
     "text": [
      "Not Ok!\n",
      "Ok!\n",
      "Ok!\n"
     ]
    }
   ],
   "source": [
    "def regex(test_str):\n",
    "    regex = r\"^a{1}b+$\"\n",
    "    if re.match(regex, test_str):\n",
    "        print(\"Ok!\")\n",
    "    else:\n",
    "        print(\"Not Ok!\")\n",
    "\n",
    "regex(\"a\")\n",
    "regex(\"ab\")\n",
    "regex(\"abb\")"
   ]
  },
  {
   "cell_type": "markdown",
   "id": "5b1d79f0",
   "metadata": {},
   "source": [
    "### An <u>a</u> fallowed by zero or one <u>b</u> "
   ]
  },
  {
   "cell_type": "code",
   "execution_count": 83,
   "id": "b87436ff",
   "metadata": {},
   "outputs": [
    {
     "name": "stdout",
     "output_type": "stream",
     "text": [
      "Ok!\n",
      "Ok!\n",
      "Not Ok!\n"
     ]
    }
   ],
   "source": [
    "def regex(test_str):\n",
    "    regex = r\"a{1}b?$\"\n",
    "    if re.match(regex, test_str):\n",
    "        print(\"Ok!\")\n",
    "    else:\n",
    "        print(\"Not Ok!\")\n",
    "\n",
    "regex(\"a\")\n",
    "regex(\"ab\")\n",
    "regex(\"abb\")\n",
    "    "
   ]
  },
  {
   "cell_type": "markdown",
   "id": "899ff165",
   "metadata": {},
   "source": [
    "### An <u>a</u> fallowed by zero to three <u>b's</u> "
   ]
  },
  {
   "cell_type": "code",
   "execution_count": 92,
   "id": "5d8d18e8",
   "metadata": {},
   "outputs": [
    {
     "name": "stdout",
     "output_type": "stream",
     "text": [
      "Ok!\n",
      "Ok!\n",
      "Not Ok!\n"
     ]
    }
   ],
   "source": [
    "def regex(test_str):\n",
    "    regex = \"a{1}b{,3}$\"\n",
    "    if re.match(regex, test_str):\n",
    "        print(\"Ok!\")\n",
    "    else:\n",
    "        print(\"Not Ok!\")\n",
    "\n",
    "regex(\"a\")\n",
    "regex(\"ab\")\n",
    "regex(\"abbbb\")\n",
    "    "
   ]
  },
  {
   "cell_type": "markdown",
   "id": "29f806df",
   "metadata": {},
   "source": [
    "### Sequences of lowercase letters joined with a underscore at the end"
   ]
  },
  {
   "cell_type": "code",
   "execution_count": 131,
   "id": "14ede940",
   "metadata": {},
   "outputs": [
    {
     "name": "stdout",
     "output_type": "stream",
     "text": [
      "Ok!\n",
      "Not OK!\n"
     ]
    }
   ],
   "source": [
    "def regex(test_str):\n",
    "    regex = r\"^[a-z]*_{1}$\"\n",
    "    if re.match(regex, test_str):\n",
    "        print(\"Ok!\")\n",
    "    else:\n",
    "        print(\"Not OK!\")\n",
    "\n",
    "regex(r\"a_\")\n",
    "regex(\"adsfasdf__\")\n"
   ]
  },
  {
   "cell_type": "markdown",
   "id": "c6823cb8",
   "metadata": {},
   "source": [
    "### Find the sequences of <u>one</u> upper case letter followed by lower case letters"
   ]
  },
  {
   "cell_type": "code",
   "execution_count": 137,
   "id": "71e02f53",
   "metadata": {},
   "outputs": [
    {
     "name": "stdout",
     "output_type": "stream",
     "text": [
      "Ok!\n",
      "Not Ok!\n",
      "Ok!\n"
     ]
    }
   ],
   "source": [
    "def regex(test_str):\n",
    "    regex = r\"[A-Z]{1}[a-z]+$\"\n",
    "    if re.match(regex, test_str):\n",
    "        print(\"Ok!\")\n",
    "    else:\n",
    "        print(\"Not Ok!\")\n",
    "\n",
    "regex(\"Ma\")\n",
    "regex(\"M\")\n",
    "regex(\"Hasdfzds\")\n"
   ]
  },
  {
   "cell_type": "markdown",
   "id": "0dc43972",
   "metadata": {},
   "source": [
    "### Matches a string that has an <u>a</u> followed by anything, ending in <u>b</u>"
   ]
  },
  {
   "cell_type": "code",
   "execution_count": 179,
   "id": "1ebcb288",
   "metadata": {},
   "outputs": [
    {
     "name": "stdout",
     "output_type": "stream",
     "text": [
      "Ok!\n",
      "Ok!\n",
      "Not Ok!\n",
      "Ok!\n",
      "Ok!\n"
     ]
    }
   ],
   "source": [
    "def regex(test_str):\n",
    "    regex = r\"[^a]*a{1}.*?b$\"\n",
    "    if re.match(regex, test_str):\n",
    "        print(\"Ok!\")\n",
    "    else:\n",
    "        print(\"Not Ok!\")\n",
    "\n",
    "regex(\"ab\")\n",
    "regex(\"_ab\")\n",
    "regex(\"dfgt\")\n",
    "regex(\"mab\")\n",
    "regex(\"afsdafasfsdfb\")\n"
   ]
  },
  {
   "cell_type": "markdown",
   "id": "c782ab72",
   "metadata": {},
   "source": [
    "### Matches a word at the beginning of a string"
   ]
  },
  {
   "cell_type": "code",
   "execution_count": 189,
   "id": "863ca50e",
   "metadata": {},
   "outputs": [
    {
     "name": "stdout",
     "output_type": "stream",
     "text": [
      "Not OK!\n",
      "Ok!\n",
      "Ok!\n"
     ]
    }
   ],
   "source": [
    "def regex(test_str):\n",
    "    regex = r\"^\\w\"\n",
    "    if re.match(regex, test_str):\n",
    "        print(\"Ok!\")\n",
    "    else:\n",
    "        print(\"Not OK!\")\n",
    "\n",
    "regex(\" Testando\")\n",
    "regex(\"Testando\")\n",
    "regex(\"foo bar\")"
   ]
  },
  {
   "cell_type": "markdown",
   "id": "2300dbb7",
   "metadata": {},
   "source": [
    "### Matches a word at the end of string, with optional punctuation"
   ]
  },
  {
   "cell_type": "code",
   "execution_count": 198,
   "id": "2ff69020",
   "metadata": {},
   "outputs": [
    {
     "name": "stdout",
     "output_type": "stream",
     "text": [
      "Ok!\n",
      "Not Ok!\n",
      "Ok!\n"
     ]
    }
   ],
   "source": [
    "def regex(test_str):\n",
    "    regex = r\"^\\w[!?.]*\"\n",
    "    if re.match(regex, test_str):\n",
    "        print(\"Ok!\")\n",
    "    else:\n",
    "        print(\"Not Ok!\")\n",
    "\n",
    "regex(\"fala!\")\n",
    "regex(\" fala?!\")\n",
    "regex(\"foo bar!\")"
   ]
  },
  {
   "cell_type": "markdown",
   "id": "10f56007",
   "metadata": {},
   "source": [
    "### Matches a word containing <u>z</u>"
   ]
  },
  {
   "cell_type": "code",
   "execution_count": 209,
   "id": "bde94ce4",
   "metadata": {},
   "outputs": [
    {
     "name": "stdout",
     "output_type": "stream",
     "text": [
      "Ok!\n",
      "Not OK!\n"
     ]
    }
   ],
   "source": [
    "def regex(test_str):\n",
    "    regex = \"\\w*z.\\W*\"\n",
    "    if re.match(regex, test_str):\n",
    "        print(\"Ok!\")\n",
    "    else:\n",
    "        print(\"Not OK!\")\n",
    "\n",
    "regex(\"zack\")\n",
    "regex(\"the zack\")"
   ]
  }
 ],
 "metadata": {
  "kernelspec": {
   "display_name": "Python 3",
   "language": "python",
   "name": "python3"
  },
  "language_info": {
   "codemirror_mode": {
    "name": "ipython",
    "version": 3
   },
   "file_extension": ".py",
   "mimetype": "text/x-python",
   "name": "python",
   "nbconvert_exporter": "python",
   "pygments_lexer": "ipython3",
   "version": "3.8.10"
  }
 },
 "nbformat": 4,
 "nbformat_minor": 5
}
